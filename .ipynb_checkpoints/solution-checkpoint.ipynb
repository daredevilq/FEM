{
 "cells": [
  {
   "cell_type": "markdown",
   "source": [
    "$$Piotr Śmiałek$$"
   ],
   "metadata": {
    "collapsed": false
   },
   "id": "c954a923204e075d"
  },
  {
   "cell_type": "markdown",
   "source": [
    "$$4.5 Potencjał elekromagnetyczny$$"
   ],
   "metadata": {
    "collapsed": false
   },
   "id": "d53969099df9c05e"
  },
  {
   "cell_type": "markdown",
   "source": [
    "$$\\frac{d^2 \\phi}{dx^2} = -\\frac{\\rho}{\\epsilon_{r}}$$"
   ],
   "metadata": {
    "collapsed": false
   },
   "id": "4e16427d106dae6b"
  },
  {
   "cell_type": "markdown",
   "source": [
    "$$\\phi'(0) + \\phi(0) = 5$$"
   ],
   "metadata": {
    "collapsed": false
   },
   "id": "ed65bdb9a04dfda3"
  },
  {
   "cell_type": "markdown",
   "source": [
    "$$\\phi(3) = 2 $$"
   ],
   "metadata": {
    "collapsed": false
   },
   "id": "54dc9282c5ca14a5"
  },
  {
   "cell_type": "markdown",
   "source": [
    "$$\\rho = 1 $$"
   ],
   "metadata": {
    "collapsed": false
   },
   "id": "eef97fab45304e3b"
  },
  {
   "cell_type": "markdown",
   "source": [
    "$$\\epsilon_{r}(x) =\n",
    "\\begin{cases}\n",
    "    10 & \\text{dla } x \\in [0,1] \\\\\n",
    "    5 & \\text{dla } x \\in (1,2] \\\\\n",
    "    1 & \\text{dla } x \\in (2,3]\n",
    "\\end{cases}\n",
    "$$"
   ],
   "metadata": {
    "collapsed": false
   },
   "id": "bb186f6fd7fb3182"
  },
  {
   "cell_type": "markdown",
   "source": [
    "$$Wyprowadzenie\\ sformułowania\\ wariancyjnego$$"
   ],
   "metadata": {
    "collapsed": false
   },
   "id": "965772a878648e62"
  },
  {
   "cell_type": "markdown",
   "source": [
    "$$\\phi''(x) = -\\frac{\\rho}{\\epsilon_{r}}$$"
   ],
   "metadata": {
    "collapsed": false
   },
   "id": "5078884b701ddc02"
  },
  {
   "cell_type": "markdown",
   "source": [
    "$$\\phi''(x) v(x) = -\\frac{\\rho}{\\epsilon_{r}}v(x)$$"
   ],
   "metadata": {
    "collapsed": false
   },
   "id": "ca7def3bdf6942fe"
  },
  {
   "cell_type": "markdown",
   "source": [
    "$$\\int_{0}^{3} \\phi''(x) v(x) \\, dx = \\int_{0}^{3} -\\frac{\\rho}{\\epsilon_{r}}v(x)dx$$"
   ],
   "metadata": {
    "collapsed": false
   },
   "id": "6260ee9f76db546"
  },
  {
   "cell_type": "markdown",
   "source": [
    "$$\\text{Z zasady całkowania przez części:}$$"
   ],
   "metadata": {
    "collapsed": false
   },
   "id": "926e7b254521a896"
  },
  {
   "cell_type": "markdown",
   "source": [
    "$$[\\phi'(x)v(x)]_{0}^{3} - \\int_{0}^{3} \\phi'(x) v'(x)dx = \\int_{0}^{3} -\\frac{\\rho}{\\epsilon_{r}}v(x)dx$$"
   ],
   "metadata": {
    "collapsed": false
   },
   "id": "335a876fb861d092"
  },
  {
   "cell_type": "markdown",
   "source": [
    "$$\\phi'(3)v(3) - \\phi'(0)v(0) - \\int_{0}^{3} \\phi'(x) v'(x)dx = \\int_{0}^{3} -\\frac{\\rho}{\\epsilon_{r}}v(x)dx$$"
   ],
   "metadata": {
    "collapsed": false
   },
   "id": "1269e3f1fbe887c6"
  },
  {
   "cell_type": "markdown",
   "source": [
    "$$\\phi'(3) = 0 \\text{ ponieważ } \\phi(3) = 2$$"
   ],
   "metadata": {
    "collapsed": false
   },
   "id": "5c74aeea444d4808"
  },
  {
   "cell_type": "markdown",
   "source": [
    "$$- \\phi'(0)v(0) - \\int_{0}^{3} \\phi'(x) v'(x)dx = \\int_{0}^{3} -\\frac{\\rho}{\\epsilon_{r}}v(x)dx$$"
   ],
   "metadata": {
    "collapsed": false
   },
   "id": "f0bd7e41b9546861"
  },
  {
   "cell_type": "markdown",
   "source": [
    "$$\\text{Korzystając z podanych danych:}$$"
   ],
   "metadata": {
    "collapsed": false
   },
   "id": "31f85a2498875dea"
  },
  {
   "cell_type": "markdown",
   "source": [
    "$$-(5 - \\phi(0))v(0) - \\int_{0}^{3} \\phi'(x) v'(x)dx = \\int_{0}^{3} -\\frac{\\rho}{\\epsilon_{r}}v(x)dx$$"
   ],
   "metadata": {
    "collapsed": false
   },
   "id": "c36f92a311454612"
  },
  {
   "cell_type": "markdown",
   "source": [
    "$$\\phi(0)v(0) - 5v(0) - \\int_{0}^{3} \\phi'(x) v'(x)dx = \\int_{0}^{3} -\\frac{\\rho}{\\epsilon_{r}}v(x)dx$$"
   ],
   "metadata": {
    "collapsed": false
   },
   "id": "d1e543fcccac58cf"
  },
  {
   "cell_type": "markdown",
   "source": [
    "$$\\phi(0)v(0)  + \\int_{0}^{3} \\phi'(x) v'(x)dx = - \\int_{0}^{3} \\frac{\\rho}{\\epsilon_{r}}v(x)dx +  5v(0)$$"
   ],
   "metadata": {
    "collapsed": false
   },
   "id": "68543863c10d174"
  },
  {
   "cell_type": "markdown",
   "source": [
    "$$B(\\phi, v) = L(v)$$"
   ],
   "metadata": {
    "collapsed": false
   },
   "id": "65a668535383d9d0"
  },
  {
   "cell_type": "markdown",
   "source": [
    "$$\\phi = \\hat{\\phi} + w$$"
   ],
   "metadata": {
    "collapsed": false
   },
   "id": "13ac56709b9ee96e"
  },
  {
   "cell_type": "markdown",
   "source": [
    "$$\\hat{\\phi} = 2e_{n}$$"
   ],
   "metadata": {
    "collapsed": false
   },
   "id": "ef0dc4fef0583ae6"
  },
  {
   "cell_type": "markdown",
   "source": [
    "$$B(\\hat{\\phi} + w, v) = L(v)$$"
   ],
   "metadata": {
    "collapsed": false
   },
   "id": "60f19dd9df8e1a1a"
  },
  {
   "cell_type": "markdown",
   "source": [
    "$$B(w,v) =L(v) - B(\\hat{\\phi}, v)$$"
   ],
   "metadata": {
    "collapsed": false
   },
   "id": "ca920bacb77df8fa"
  },
  {
   "cell_type": "markdown",
   "source": [
    "$$B(w,v) = L(v) - B(2e_{n}, v)$$"
   ],
   "metadata": {
    "collapsed": false
   },
   "id": "f021802892c041fa"
  },
  {
   "cell_type": "markdown",
   "source": [
    "$$B(w,v) = L(v) - 2B(e_{n}, v)$$"
   ],
   "metadata": {
    "collapsed": false
   },
   "id": "71faa822dcfb7857"
  },
  {
   "cell_type": "markdown",
   "source": [
    "$$B(w,v) = \\hat{L}(v)$$"
   ],
   "metadata": {
    "collapsed": false
   },
   "id": "27d71de2dce6deb0"
  }
 ],
 "metadata": {
  "kernelspec": {
   "display_name": "Python 3",
   "language": "python",
   "name": "python3"
  },
  "language_info": {
   "codemirror_mode": {
    "name": "ipython",
    "version": 2
   },
   "file_extension": ".py",
   "mimetype": "text/x-python",
   "name": "python",
   "nbconvert_exporter": "python",
   "pygments_lexer": "ipython2",
   "version": "2.7.6"
  }
 },
 "nbformat": 4,
 "nbformat_minor": 5
}
