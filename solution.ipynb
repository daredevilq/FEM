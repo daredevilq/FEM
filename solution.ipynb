{
 "cells": [
  {
   "cell_type": "markdown",
   "id": "c954a923204e075d",
   "metadata": {
    "collapsed": false,
    "jupyter": {
     "outputs_hidden": false
    }
   },
   "source": [
    "$$Piotr Śmiałek$$"
   ]
  },
  {
   "cell_type": "markdown",
   "id": "d53969099df9c05e",
   "metadata": {
    "collapsed": false,
    "jupyter": {
     "outputs_hidden": false
    }
   },
   "source": [
    "$$4.5 Potencjał elekromagnetyczny$$"
   ]
  },
  {
   "cell_type": "markdown",
   "id": "4e16427d106dae6b",
   "metadata": {
    "collapsed": false,
    "jupyter": {
     "outputs_hidden": false
    }
   },
   "source": [
    "$$\\frac{d^2 \\phi}{dx^2} = -\\frac{\\rho}{\\epsilon_{r}}$$"
   ]
  },
  {
   "cell_type": "markdown",
   "id": "ed65bdb9a04dfda3",
   "metadata": {
    "collapsed": false,
    "jupyter": {
     "outputs_hidden": false
    }
   },
   "source": [
    "$$\\phi'(0) + \\phi(0) = 5$$"
   ]
  },
  {
   "cell_type": "markdown",
   "id": "54dc9282c5ca14a5",
   "metadata": {
    "collapsed": false,
    "jupyter": {
     "outputs_hidden": false
    }
   },
   "source": [
    "$$\\phi(3) = 2 $$"
   ]
  },
  {
   "cell_type": "markdown",
   "id": "eef97fab45304e3b",
   "metadata": {
    "collapsed": false,
    "jupyter": {
     "outputs_hidden": false
    }
   },
   "source": [
    "$$\\rho = 1 $$"
   ]
  },
  {
   "cell_type": "markdown",
   "id": "bb186f6fd7fb3182",
   "metadata": {
    "collapsed": false,
    "jupyter": {
     "outputs_hidden": false
    }
   },
   "source": [
    "$$\\epsilon_{r}(x) =\n",
    "\\begin{cases}\n",
    "    10 & \\text{dla } x \\in [0,1] \\\\\n",
    "    5 & \\text{dla } x \\in (1,2] \\\\\n",
    "    1 & \\text{dla } x \\in (2,3]\n",
    "\\end{cases}\n",
    "$$"
   ]
  },
  {
   "cell_type": "markdown",
   "id": "965772a878648e62",
   "metadata": {
    "collapsed": false,
    "jupyter": {
     "outputs_hidden": false
    }
   },
   "source": [
    "$$Wyprowadzenie\\ sformułowania\\ wariancyjnego$$"
   ]
  },
  {
   "cell_type": "markdown",
   "id": "5078884b701ddc02",
   "metadata": {
    "collapsed": false,
    "jupyter": {
     "outputs_hidden": false
    }
   },
   "source": [
    "$$\\phi''(x) = -\\frac{\\rho}{\\epsilon_{r}}$$"
   ]
  },
  {
   "cell_type": "markdown",
   "id": "ca7def3bdf6942fe",
   "metadata": {
    "collapsed": false,
    "jupyter": {
     "outputs_hidden": false
    }
   },
   "source": [
    "$$\\phi''(x) v(x) = -\\frac{\\rho}{\\epsilon_{r}}v(x)$$"
   ]
  },
  {
   "cell_type": "markdown",
   "id": "6260ee9f76db546",
   "metadata": {
    "collapsed": false,
    "jupyter": {
     "outputs_hidden": false
    }
   },
   "source": [
    "$$\\int_{0}^{3} \\phi''(x) v(x) \\, dx = \\int_{0}^{3} -\\frac{\\rho}{\\epsilon_{r}}v(x)dx$$"
   ]
  },
  {
   "cell_type": "markdown",
   "id": "926e7b254521a896",
   "metadata": {
    "collapsed": false,
    "jupyter": {
     "outputs_hidden": false
    }
   },
   "source": [
    "$$\\text{Z zasady całkowania przez części:}$$"
   ]
  },
  {
   "cell_type": "markdown",
   "id": "335a876fb861d092",
   "metadata": {
    "collapsed": false,
    "jupyter": {
     "outputs_hidden": false
    }
   },
   "source": [
    "$$[\\phi'(x)v(x)]_{0}^{3} - \\int_{0}^{3} \\phi'(x) v'(x)dx = \\int_{0}^{3} -\\frac{\\rho}{\\epsilon_{r}}v(x)dx$$"
   ]
  },
  {
   "cell_type": "markdown",
   "id": "1269e3f1fbe887c6",
   "metadata": {
    "collapsed": false,
    "jupyter": {
     "outputs_hidden": false
    }
   },
   "source": [
    "$$\\phi'(3)v(3) - \\phi'(0)v(0) - \\int_{0}^{3} \\phi'(x) v'(x)dx = \\int_{0}^{3} -\\frac{\\rho}{\\epsilon_{r}}v(x)dx$$"
   ]
  },
  {
   "cell_type": "markdown",
   "id": "5c74aeea444d4808",
   "metadata": {
    "collapsed": false,
    "jupyter": {
     "outputs_hidden": false
    }
   },
   "source": [
    "$$\\phi'(3) = 0 \\text{ ponieważ } \\phi(3) = 2$$"
   ]
  },
  {
   "cell_type": "markdown",
   "id": "f0bd7e41b9546861",
   "metadata": {
    "collapsed": false,
    "jupyter": {
     "outputs_hidden": false
    }
   },
   "source": [
    "$$- \\phi'(0)v(0) - \\int_{0}^{3} \\phi'(x) v'(x)dx = \\int_{0}^{3} -\\frac{\\rho}{\\epsilon_{r}}v(x)dx$$"
   ]
  },
  {
   "cell_type": "markdown",
   "id": "31f85a2498875dea",
   "metadata": {
    "collapsed": false,
    "jupyter": {
     "outputs_hidden": false
    }
   },
   "source": [
    "$$\\text{Korzystając z podanych danych:}$$"
   ]
  },
  {
   "cell_type": "markdown",
   "id": "c36f92a311454612",
   "metadata": {
    "collapsed": false,
    "jupyter": {
     "outputs_hidden": false
    }
   },
   "source": [
    "$$-(5 - \\phi(0))v(0) - \\int_{0}^{3} \\phi'(x) v'(x)dx = \\int_{0}^{3} -\\frac{\\rho}{\\epsilon_{r}}v(x)dx$$"
   ]
  },
  {
   "cell_type": "markdown",
   "id": "d1e543fcccac58cf",
   "metadata": {
    "collapsed": false,
    "jupyter": {
     "outputs_hidden": false
    }
   },
   "source": [
    "$$\\phi(0)v(0) - 5v(0) - \\int_{0}^{3} \\phi'(x) v'(x)dx = \\int_{0}^{3} -\\frac{\\rho}{\\epsilon_{r}}v(x)dx$$"
   ]
  },
  {
   "cell_type": "markdown",
   "id": "68543863c10d174",
   "metadata": {
    "collapsed": false,
    "jupyter": {
     "outputs_hidden": false
    }
   },
   "source": [
    "$$\\phi(0)v(0)  + \\int_{0}^{3} \\phi'(x) v'(x)dx = - \\int_{0}^{3} \\frac{\\rho}{\\epsilon_{r}}v(x)dx +  5v(0)$$"
   ]
  },
  {
   "cell_type": "markdown",
   "id": "65a668535383d9d0",
   "metadata": {
    "collapsed": false,
    "jupyter": {
     "outputs_hidden": false
    }
   },
   "source": [
    "$$B(\\phi, v) = L(v)$$"
   ]
  },
  {
   "cell_type": "markdown",
   "id": "13ac56709b9ee96e",
   "metadata": {
    "collapsed": false,
    "jupyter": {
     "outputs_hidden": false
    }
   },
   "source": [
    "$$\\phi = \\hat{\\phi} + w$$"
   ]
  },
  {
   "cell_type": "markdown",
   "id": "ef0dc4fef0583ae6",
   "metadata": {
    "collapsed": false,
    "jupyter": {
     "outputs_hidden": false
    }
   },
   "source": [
    "$$\\hat{\\phi} = 2e_{n}$$"
   ]
  },
  {
   "cell_type": "markdown",
   "id": "60f19dd9df8e1a1a",
   "metadata": {
    "collapsed": false,
    "jupyter": {
     "outputs_hidden": false
    }
   },
   "source": [
    "$$B(\\hat{\\phi} + w, v) = L(v)$$"
   ]
  },
  {
   "cell_type": "markdown",
   "id": "ca920bacb77df8fa",
   "metadata": {
    "collapsed": false,
    "jupyter": {
     "outputs_hidden": false
    }
   },
   "source": [
    "$$B(w,v) =L(v) - B(\\hat{\\phi}, v)$$"
   ]
  },
  {
   "cell_type": "markdown",
   "id": "f021802892c041fa",
   "metadata": {
    "collapsed": false,
    "jupyter": {
     "outputs_hidden": false
    }
   },
   "source": [
    "$$B(w,v) = L(v) - B(2e_{n}, v)$$"
   ]
  },
  {
   "cell_type": "markdown",
   "id": "71faa822dcfb7857",
   "metadata": {
    "collapsed": false,
    "jupyter": {
     "outputs_hidden": false
    }
   },
   "source": [
    "$$B(w,v) = L(v) - 2B(e_{n}, v)$$"
   ]
  },
  {
   "cell_type": "markdown",
   "id": "27d71de2dce6deb0",
   "metadata": {
    "collapsed": false,
    "jupyter": {
     "outputs_hidden": false
    }
   },
   "source": [
    "$$B(w,v) = \\hat{L}(v)$$"
   ]
  }
 ],
 "metadata": {
  "kernelspec": {
   "display_name": "Python 3 (ipykernel)",
   "language": "python",
   "name": "python3"
  },
  "language_info": {
   "codemirror_mode": {
    "name": "ipython",
    "version": 3
   },
   "file_extension": ".py",
   "mimetype": "text/x-python",
   "name": "python",
   "nbconvert_exporter": "python",
   "pygments_lexer": "ipython3",
   "version": "3.10.7"
  }
 },
 "nbformat": 4,
 "nbformat_minor": 5
}
